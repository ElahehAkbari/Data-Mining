{
  "nbformat": 4,
  "nbformat_minor": 0,
  "metadata": {
    "colab": {
      "name": "DM_HW1.ipynb",
      "provenance": [],
      "collapsed_sections": []
    },
    "kernelspec": {
      "name": "python3",
      "display_name": "Python 3"
    },
    "language_info": {
      "name": "python"
    }
  },
  "cells": [
    {
      "cell_type": "markdown",
      "source": [
        "**Loading the dataset**"
      ],
      "metadata": {
        "id": "qAszYaEBZCJK"
      }
    },
    {
      "cell_type": "code",
      "source": [
        "import pandas as pd\n",
        "dataset_path = \"iris.data\"\n",
        "df = pd.read_csv(dataset_path, names=['sepal_length','sepal_width','petal_length','petal_width','target'])"
      ],
      "metadata": {
        "id": "9Fb-LpvvZENt"
      },
      "execution_count": null,
      "outputs": []
    },
    {
      "cell_type": "markdown",
      "source": [
        "**Preprocessing**"
      ],
      "metadata": {
        "id": "g2oYoHuKw9aW"
      }
    },
    {
      "cell_type": "code",
      "source": [
        "from sklearn import preprocessing\n",
        "#print the number of NaN rows in each feature\n",
        "res = df.isna().sum()\n",
        "print(\"Number of NaN rows per feature:\")\n",
        "print(res)"
      ],
      "metadata": {
        "colab": {
          "base_uri": "https://localhost:8080/"
        },
        "id": "2vIom25C4v04",
        "outputId": "bf44c798-afbb-42e1-e3b0-e7e2c875f409"
      },
      "execution_count": null,
      "outputs": [
        {
          "output_type": "stream",
          "name": "stdout",
          "text": [
            "Number of NaN rows per feature:\n",
            "sepal_length    2\n",
            "sepal_width     0\n",
            "petal_length    2\n",
            "petal_width     3\n",
            "target          3\n",
            "dtype: int64\n"
          ]
        }
      ]
    },
    {
      "cell_type": "markdown",
      "source": [
        "**Drop NaN rows**"
      ],
      "metadata": {
        "id": "9fqY0Kakxl5Z"
      }
    },
    {
      "cell_type": "code",
      "source": [
        "df.dropna(inplace=True)\n",
        "#this line is necessary to reindex, otherwise we will not be able to create the scatter plot correctly\n",
        "df.reset_index(drop=True, inplace=True)"
      ],
      "metadata": {
        "id": "fTFSrd-C5hT5"
      },
      "execution_count": null,
      "outputs": []
    },
    {
      "cell_type": "code",
      "source": [
        "res = df.isna().sum()\n",
        "print(\"Number of NaN rows per feature:\")\n",
        "print(res)"
      ],
      "metadata": {
        "colab": {
          "base_uri": "https://localhost:8080/"
        },
        "id": "36RyGxdc5v0M",
        "outputId": "c247fb41-ba7d-4c47-c6b3-f4abc0662474"
      },
      "execution_count": null,
      "outputs": [
        {
          "output_type": "stream",
          "name": "stdout",
          "text": [
            "Number of NaN rows per feature:\n",
            "sepal_length    0\n",
            "sepal_width     0\n",
            "petal_length    0\n",
            "petal_width     0\n",
            "target          0\n",
            "dtype: int64\n"
          ]
        }
      ]
    },
    {
      "cell_type": "markdown",
      "source": [
        "Encode target labels with value between 0 and n_classes-1.\n",
        "\n",
        "(This transformer should be used to encode target values, i.e. y, and not the input X.)"
      ],
      "metadata": {
        "id": "5YyEL2mFy213"
      }
    },
    {
      "cell_type": "code",
      "source": [
        "df['target'] = preprocessing.LabelEncoder().fit_transform(df['target'])"
      ],
      "metadata": {
        "id": "xMg0JFUn57B9"
      },
      "execution_count": null,
      "outputs": []
    },
    {
      "cell_type": "markdown",
      "source": [
        "**Normalization**"
      ],
      "metadata": {
        "id": "bhclO4pRpcc3"
      }
    },
    {
      "cell_type": "code",
      "source": [
        "#get target column of data before normalazing, this is later on used to visualize our data\n",
        "target_col = df.pop('target')\n",
        "\n",
        "#print mean and variance before normalization\n",
        "print(\"Variance values before normalization: \\n\")\n",
        "print(df.var())\n",
        "print(\"Mean values before normalization: \\n\")\n",
        "print(df.mean())\n",
        "\n",
        "#data normalization using StandardScaler\n",
        "normalized = preprocessing.StandardScaler().fit_transform(df)\n",
        "normalized = pd.DataFrame(normalized, columns=['sepal_length', 'sepal_width', 'petal_length', 'petal_width'])\n",
        "\n",
        "#print mean and variance after normalization\n",
        "print(\"Variance values after normalization: \\n\")\n",
        "print(normalized.var())\n",
        "print(\"Mean values after normalization: \\n\")\n",
        "print(normalized.mean())"
      ],
      "metadata": {
        "colab": {
          "base_uri": "https://localhost:8080/"
        },
        "id": "-lFdTVt7paLo",
        "outputId": "051d7f0b-8841-439c-9e62-b355e5f3768d"
      },
      "execution_count": null,
      "outputs": [
        {
          "output_type": "stream",
          "name": "stdout",
          "text": [
            "Variance values before normalization: \n",
            "\n",
            "sepal_length    0.685694\n",
            "sepal_width     0.188004\n",
            "petal_length    3.113179\n",
            "petal_width     0.582414\n",
            "dtype: float64\n",
            "Mean values before normalization: \n",
            "\n",
            "sepal_length    5.843333\n",
            "sepal_width     3.054000\n",
            "petal_length    3.758667\n",
            "petal_width     1.198667\n",
            "dtype: float64\n",
            "Variance values after normalization: \n",
            "\n",
            "sepal_length    1.006711\n",
            "sepal_width     1.006711\n",
            "petal_length    1.006711\n",
            "petal_width     1.006711\n",
            "dtype: float64\n",
            "Mean values after normalization: \n",
            "\n",
            "sepal_length   -2.775558e-16\n",
            "sepal_width    -5.140333e-16\n",
            "petal_length    1.154632e-16\n",
            "petal_width     9.251859e-16\n",
            "dtype: float64\n"
          ]
        }
      ]
    },
    {
      "cell_type": "markdown",
      "source": [
        "**PCA**"
      ],
      "metadata": {
        "id": "0IyzPSJxqMJG"
      }
    },
    {
      "cell_type": "code",
      "source": [
        "from sklearn.decomposition import PCA\n",
        "#reduces diensions fro 4 to 2\n",
        "pca = PCA(n_components=2)\n",
        "pca.fit(df)"
      ],
      "metadata": {
        "colab": {
          "base_uri": "https://localhost:8080/"
        },
        "id": "JOKC6DbUqNKn",
        "outputId": "74693645-fd78-464f-dcf3-8be0f7d75c60"
      },
      "execution_count": null,
      "outputs": [
        {
          "output_type": "execute_result",
          "data": {
            "text/plain": [
              "PCA(n_components=2)"
            ]
          },
          "metadata": {},
          "execution_count": 204
        }
      ]
    },
    {
      "cell_type": "markdown",
      "source": [
        "**Visualization**"
      ],
      "metadata": {
        "id": "ZMVbgNwwqjHs"
      }
    },
    {
      "cell_type": "code",
      "source": [
        "import matplotlib.pyplot as plt\n",
        "#red -> class 1, green -> class 2, blue -> class 3\n",
        "#scatter plot\n",
        "formatter = plt.FuncFormatter(lambda i, *args: pd.DataFrame(pca.transform(df), columns=['f1', 'f2']).target_names[int(i)])\n",
        "pd.DataFrame(pca.transform(df), columns=['f1', 'f2']).plot.scatter(x = 'f1', y = 'f2', c = target_col.map({0: 'red', 1: 'green', 2: 'blue'}))\n",
        "plt.show()"
      ],
      "metadata": {
        "colab": {
          "base_uri": "https://localhost:8080/",
          "height": 283
        },
        "id": "k5WechsPqlDe",
        "outputId": "4b62a6fb-5321-41bc-eccc-6f1c26d95540"
      },
      "execution_count": 222,
      "outputs": [
        {
          "output_type": "display_data",
          "data": {
            "text/plain": [
              "<Figure size 432x288 with 1 Axes>"
            ],
            "image/png": "[encoded data removed]"
          },
          "metadata": {
            "needs_background": "light"
          }
        }
      ]
    },
    {
      "cell_type": "code",
      "source": [
        "  df.boxplot(column=['sepal_length', 'sepal_width', 'petal_length', 'petal_width'])\n",
        "  plt.show()"
      ],
      "metadata": {
        "colab": {
          "base_uri": "https://localhost:8080/",
          "height": 266
        },
        "id": "kJz7N8p1JO5I",
        "outputId": "6e72848e-5a33-412a-d031-a87d09fbe13a"
      },
      "execution_count": 223,
      "outputs": [
        {
          "output_type": "display_data",
          "data": {
            "text/plain": [
              "<Figure size 432x288 with 1 Axes>"
            ],
            "image/png": "[encoded data removed]"
          },
          "metadata": {
            "needs_background": "light"
          }
        }
      ]
    }
  ]
}